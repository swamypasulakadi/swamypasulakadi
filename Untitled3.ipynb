{
 "cells": [
  {
   "cell_type": "code",
   "execution_count": null,
   "id": "39b8ec90",
   "metadata": {},
   "outputs": [],
   "source": [
    "# loops"
   ]
  },
  {
   "cell_type": "code",
   "execution_count": 16,
   "id": "e90daf9c",
   "metadata": {},
   "outputs": [
    {
     "name": "stdout",
     "output_type": "stream",
     "text": [
      "0\n",
      "1\n",
      "2\n",
      "3\n",
      "4\n"
     ]
    }
   ],
   "source": [
    "for i in range(5):\n",
    "    print(i)"
   ]
  },
  {
   "cell_type": "code",
   "execution_count": 34,
   "id": "f8f1e106",
   "metadata": {},
   "outputs": [
    {
     "name": "stdout",
     "output_type": "stream",
     "text": [
      "0 1 2 3 4 5 6 7 8 9 "
     ]
    }
   ],
   "source": [
    "for i in range(10):\n",
    "    print(i,end=' ')"
   ]
  },
  {
   "cell_type": "code",
   "execution_count": null,
   "id": "2a924706",
   "metadata": {},
   "outputs": [],
   "source": [
    ".if you want to run any loop we required 3 things\n",
    ".initial point to start the loop\n",
    ".increment or decrement\n",
    ".condition:to stop the loop\n",
    ".i want to start with 1\n",
    ".i want to stop at 10\n",
    ".i want to go step by step by 2 unit"
   ]
  },
  {
   "cell_type": "code",
   "execution_count": null,
   "id": "3121c4ca",
   "metadata": {},
   "outputs": [],
   "source": [
    "in for loop there 3 lines represent only one line"
   ]
  },
  {
   "cell_type": "code",
   "execution_count": null,
   "id": "ee2b7a39",
   "metadata": {},
   "outputs": [],
   "source": [
    "# pattren-1\n",
    "\n",
    "range(stop)\n",
    "\n",
    "-start valve by default is 0\n",
    "-in python index starts with zero\n",
    "-by defeault it is increment by 1\n",
    "-last valve =step-1\n"
   ]
  },
  {
   "cell_type": "code",
   "execution_count": null,
   "id": "9f2daca1",
   "metadata": {},
   "outputs": [],
   "source": [
    "  "
   ]
  },
  {
   "cell_type": "code",
   "execution_count": 38,
   "id": "f87f245f",
   "metadata": {},
   "outputs": [
    {
     "name": "stdout",
     "output_type": "stream",
     "text": [
      "0\n",
      "1\n",
      "2\n",
      "3\n",
      "4\n",
      "5\n",
      "6\n",
      "7\n",
      "8\n",
      "9\n"
     ]
    }
   ],
   "source": [
    "for i in range(10):\n",
    "    print(i)\n",
    "    "
   ]
  },
  {
   "cell_type": "code",
   "execution_count": 22,
   "id": "c08d5583",
   "metadata": {},
   "outputs": [
    {
     "name": "stdout",
     "output_type": "stream",
     "text": [
      "0 1 2 3 "
     ]
    }
   ],
   "source": [
    "for i in range(4):\n",
    "    print(i,end=' ')"
   ]
  },
  {
   "cell_type": "code",
   "execution_count": 24,
   "id": "dff7b419",
   "metadata": {},
   "outputs": [
    {
     "name": "stdout",
     "output_type": "stream",
     "text": [
      "1 2 3\n"
     ]
    }
   ],
   "source": [
    "print(1,end=' ')\n",
    "print(2,end=' ')\n",
    "print(3)"
   ]
  },
  {
   "cell_type": "code",
   "execution_count": 25,
   "id": "8ef7f247",
   "metadata": {},
   "outputs": [
    {
     "name": "stdout",
     "output_type": "stream",
     "text": [
      "0 1 2 3 4 5 6 7 8 9 "
     ]
    }
   ],
   "source": [
    "for i in range(10):\n",
    "    print(i,end=' ')"
   ]
  },
  {
   "cell_type": "code",
   "execution_count": 26,
   "id": "ca985dc8",
   "metadata": {},
   "outputs": [
    {
     "name": "stdout",
     "output_type": "stream",
     "text": [
      "0 0\n",
      "1 1\n",
      "2 4\n",
      "3 9\n",
      "4 16\n"
     ]
    }
   ],
   "source": [
    "for i in range(5):\n",
    "    print(i,end=' ')\n",
    "    print(i*i)\n",
    "\n",
    " \n",
    "    "
   ]
  },
  {
   "cell_type": "code",
   "execution_count": null,
   "id": "23e7fbb9",
   "metadata": {},
   "outputs": [],
   "source": [
    "# pattern-2\n",
    "\n",
    "range(start,stop)\n",
    "\n",
    ".start valve taken as start mention inside the range\n",
    ".increment by default it will take one: 1\n",
    ".last valve=stop-1\n",
    "\n",
    "range(5,11) start=5 inc=1 last=11-1\n",
    "\n"
   ]
  },
  {
   "cell_type": "code",
   "execution_count": 27,
   "id": "d2db4d56",
   "metadata": {},
   "outputs": [
    {
     "name": "stdout",
     "output_type": "stream",
     "text": [
      "5\n",
      "6\n",
      "7\n",
      "8\n",
      "9\n",
      "10\n"
     ]
    }
   ],
   "source": [
    "for i in range(5,11):\n",
    "    print(i)\n"
   ]
  },
  {
   "cell_type": "code",
   "execution_count": 28,
   "id": "7d76aaab",
   "metadata": {},
   "outputs": [
    {
     "name": "stdout",
     "output_type": "stream",
     "text": [
      "5 6 7 8 9 10 "
     ]
    }
   ],
   "source": [
    "for i in range(5,11):\n",
    "    print(i,end=' ')"
   ]
  },
  {
   "cell_type": "markdown",
   "id": "96115003",
   "metadata": {},
   "source": [
    "# pattern-3"
   ]
  },
  {
   "cell_type": "markdown",
   "id": "24147535",
   "metadata": {},
   "source": [
    "range(start,stop,step)\n",
    "-start=start\n",
    "-step: how much gap ?\n",
    "    \n",
    "    -if step is positive valve consider as positive direction\n",
    "    -if step is negative valve consider as negative direction\n",
    "    \n",
    "- last valve:\n",
    "      \n",
    "        -last valve=stop-1         if step size is positive valve\n",
    "        -last valve=stop+1         if step size is negative valve \n",
    "     "
   ]
  },
  {
   "cell_type": "code",
   "execution_count": null,
   "id": "fcdc7bf3",
   "metadata": {},
   "outputs": [],
   "source": [
    "for i in range(3,15,2):     #start=3  # step=2 #direction=(+ve)\n",
    "     print(i,end=' ')        # last=15-1=14 # 3 to 14 by give 2 units gap"
   ]
  },
  {
   "cell_type": "code",
   "execution_count": null,
   "id": "f161eda0",
   "metadata": {},
   "outputs": [],
   "source": [
    "for i in range(3,15,-2):    # start= 3, step=-2 direction=(-ve) last =15+1=16\n",
    "    print(i,end=' ') \n",
    "    \n",
    "# 3 to 16 in reverse direction   \n",
    "# it will not work so no errorand no answer"
   ]
  },
  {
   "cell_type": "code",
   "execution_count": 29,
   "id": "09325da8",
   "metadata": {},
   "outputs": [
    {
     "name": "stdout",
     "output_type": "stream",
     "text": [
      "5 8 11 14 "
     ]
    }
   ],
   "source": [
    "for i in range(5,15,3):\n",
    "    print(i,end=' ')"
   ]
  },
  {
   "cell_type": "code",
   "execution_count": 30,
   "id": "dd44935d",
   "metadata": {},
   "outputs": [],
   "source": [
    "for i in range(5,15,-3):\n",
    "    print(i,end=' ')"
   ]
  },
  {
   "cell_type": "code",
   "execution_count": 31,
   "id": "e58bb245",
   "metadata": {},
   "outputs": [
    {
     "name": "stdout",
     "output_type": "stream",
     "text": [
      "5 2 -1 -4 -7 -10 -13 "
     ]
    }
   ],
   "source": [
    "for i in range(5,-15,-3):\n",
    "    print(i,end=' ')"
   ]
  },
  {
   "cell_type": "code",
   "execution_count": 3,
   "id": "8ecf1f73",
   "metadata": {},
   "outputs": [
    {
     "name": "stdout",
     "output_type": "stream",
     "text": [
      "-5 -8 -11 -14 "
     ]
    }
   ],
   "source": [
    "for i in range(-5,-15,-3):\n",
    "    print(i,end=' ')"
   ]
  },
  {
   "cell_type": "code",
   "execution_count": 2,
   "id": "0fa13303",
   "metadata": {},
   "outputs": [
    {
     "name": "stdout",
     "output_type": "stream",
     "text": [
      "5 the range of 5 is :25\n",
      "6 the range of 6 is :36\n",
      "7 the range of 7 is :49\n",
      "8 the range of 8 is :64\n",
      "9 the range of 9 is :81\n",
      "10 the range of 10 is :100\n"
     ]
    }
   ],
   "source": [
    "# WAP ask the user print square of the numbersbetween 5 to 10\n",
    "# print(the square of 5 is 25)\n",
    "\n",
    "\n",
    "for i in range(5,11):\n",
    "    print(i,end=' ')\n",
    "    print(f\"the range of {i} is :{i*i}\")"
   ]
  },
  {
   "cell_type": "code",
   "execution_count": 43,
   "id": "b21cf0c8",
   "metadata": {},
   "outputs": [
    {
     "name": "stdout",
     "output_type": "stream",
     "text": [
      "0 1 2 3 4 5 6 7 8 9 10 11 12 13 14 15 16 17 18 19 20 21 22 23 24 25 26 27 28 29 30 31 32 33 34 35 36 37 38 39 40 41 42 43 44 45 46 47 48 49 50 51 52 53 54 55 56 57 58 59 60 61 62 63 64 65 66 67 68 69 70 71 72 73 74 75 76 77 78 79 80 81 82 83 84 85 86 87 88 89 "
     ]
    }
   ],
   "source": [
    "# implement the 9th table\n",
    "\n",
    "# 9*1=9\n",
    "\n",
    "\n",
    "for i in range(9*i):\n",
    "    print(i,end=' ')"
   ]
  },
  {
   "cell_type": "code",
   "execution_count": 5,
   "id": "fa7a70dc",
   "metadata": {},
   "outputs": [
    {
     "name": "stdout",
     "output_type": "stream",
     "text": [
      "9*1 =9\n",
      "9*2 =18\n",
      "9*3 =27\n",
      "9*4 =36\n",
      "9*5 =45\n",
      "9*6 =54\n",
      "9*7 =63\n",
      "9*8 =72\n",
      "9*9 =81\n",
      "9*10 =90\n"
     ]
    }
   ],
   "source": [
    "for i in range(1,11):\n",
    "    print(f\"9*{i} ={9*i}\")"
   ]
  },
  {
   "cell_type": "code",
   "execution_count": 44,
   "id": "7a4d3b73",
   "metadata": {},
   "outputs": [
    {
     "name": "stdout",
     "output_type": "stream",
     "text": [
      "9*1 =9\n",
      "9*2 =18\n",
      "9*3 =27\n",
      "9*4 =36\n",
      "9*5 =45\n",
      "9*6 =54\n",
      "9*7 =63\n",
      "9*8 =72\n",
      "9*9 =81\n",
      "9*10 =90\n"
     ]
    }
   ],
   "source": [
    "for i in range(1,11):\n",
    "    print(f\"9*{i} ={9*i}\")"
   ]
  },
  {
   "cell_type": "code",
   "execution_count": 6,
   "id": "a6fd2ec3",
   "metadata": {},
   "outputs": [
    {
     "name": "stdout",
     "output_type": "stream",
     "text": [
      "enter the multiplection number you want: 33\n",
      "33*1=33\n",
      "33*2=66\n",
      "33*3=99\n",
      "33*4=132\n",
      "33*5=165\n",
      "33*6=198\n",
      "33*7=231\n",
      "33*8=264\n",
      "33*9=297\n",
      "33*10=330\n"
     ]
    }
   ],
   "source": [
    "num=eval(input(\"enter the multiplection number you want: \"))\n",
    "for i in range(1,11):\n",
    "    print(f\"{num}*{i}={num*i}\")"
   ]
  },
  {
   "cell_type": "code",
   "execution_count": 45,
   "id": "b61f528d",
   "metadata": {},
   "outputs": [
    {
     "name": "stdout",
     "output_type": "stream",
     "text": [
      "the square of 3 is 9\n",
      "the square of 2 is 4\n",
      "the square of 3 is 9\n",
      "the square of 2 is 4\n",
      "the square of 7 is 49\n"
     ]
    }
   ],
   "source": [
    "# wap ask the user get 5 random numbers and print the squares of these numbers\n",
    "\n",
    "import random\n",
    "for i in range(5):\n",
    "    num=random.randint(1,10)\n",
    "    print(f\"the square of {num} is {num*num}\")"
   ]
  },
  {
   "cell_type": "code",
   "execution_count": 46,
   "id": "d24a5332",
   "metadata": {},
   "outputs": [
    {
     "name": "stdout",
     "output_type": "stream",
     "text": [
      "the square of 0 is 0\n",
      "the square of 1 is 1\n",
      "the square of 2 is 4\n",
      "the square of 3 is 9\n",
      "the square of 4 is 16\n",
      "the square of 5 is 25\n",
      "the square of 6 is 36\n"
     ]
    }
   ],
   "source": [
    "for i in range(random.randint(1,10)):\n",
    "    print(f\"the square of {i} is {i*i}\")"
   ]
  },
  {
   "cell_type": "code",
   "execution_count": null,
   "id": "d80768ff",
   "metadata": {},
   "outputs": [],
   "source": [
    "# wap ask the user print it is even number or odd number\n",
    "# between 5 to 10\n",
    "\n",
    "# wap ask rhe user enter a number and print it is even or odd\n",
    "# ask the user to enter a number 5 times\n",
    "\n",
    "#wap ask the user get a 5 random numbers between 5,50\n",
    "#print it is a even or odd"
   ]
  },
  {
   "cell_type": "code",
   "execution_count": 7,
   "id": "d6b6f50e",
   "metadata": {},
   "outputs": [
    {
     "name": "stdout",
     "output_type": "stream",
     "text": [
      "5 is odd\n",
      "6 is even\n",
      "7 is odd\n",
      "8 is even\n",
      "9 is odd\n",
      "10 is even\n"
     ]
    }
   ],
   "source": [
    "for i in range(5,11):\n",
    "    if i%2==0:\n",
    "        print(f\"{i} is even\")\n",
    "    else:\n",
    "        print(f\"{i} is odd\")\n",
    "    "
   ]
  },
  {
   "cell_type": "code",
   "execution_count": 9,
   "id": "7dbb7af4",
   "metadata": {},
   "outputs": [
    {
     "name": "stdout",
     "output_type": "stream",
     "text": [
      "enter a number22\n",
      "22 is even\n",
      "enter a number33\n",
      "33 is odd\n",
      "enter a number44\n",
      "44 is even\n",
      "enter a number55\n",
      "55 is odd\n",
      "enter a number66\n",
      "66 is even\n"
     ]
    }
   ],
   "source": [
    "for i in range(5):\n",
    "    num=eval(input(\"enter a number\"))\n",
    "    if num%2==0:\n",
    "        print(f\"{num} is even\")\n",
    "    else:\n",
    "        print(f\"{num} is odd\")"
   ]
  },
  {
   "cell_type": "code",
   "execution_count": 21,
   "id": "68903eb5",
   "metadata": {},
   "outputs": [
    {
     "name": "stdout",
     "output_type": "stream",
     "text": [
      "44 is even\n",
      "35 is odd\n",
      "49 is odd\n",
      "35 is odd\n",
      "25 is odd\n"
     ]
    }
   ],
   "source": [
    "import random\n",
    "for i in range(5):\n",
    "    num=random.randint(10,50)\n",
    "    if num%2==0:\n",
    "        print(f\"{num} is even\")\n",
    "    else:\n",
    "        print(f\"{num} is odd\")"
   ]
  },
  {
   "cell_type": "code",
   "execution_count": 47,
   "id": "9df0d1d8",
   "metadata": {},
   "outputs": [
    {
     "name": "stdout",
     "output_type": "stream",
     "text": [
      "17 is odd\n",
      "45 is odd\n",
      "16 is even\n",
      "38 is even\n",
      "25 is odd\n"
     ]
    }
   ],
   "source": [
    "for i in range(5):\n",
    "    num=random.randint(5,50)\n",
    "    if num%2==0:\n",
    "        print(f\"{num} is even\")\n",
    "    else:\n",
    "        print(f\"{num} is odd\")"
   ]
  },
  {
   "cell_type": "code",
   "execution_count": null,
   "id": "8a63f0b7",
   "metadata": {},
   "outputs": [],
   "source": [
    "# implement the above code\n",
    "# find out how many even numbers are there"
   ]
  },
  {
   "cell_type": "code",
   "execution_count": 48,
   "id": "c495c8d5",
   "metadata": {},
   "outputs": [
    {
     "name": "stdout",
     "output_type": "stream",
     "text": [
      "38 is an event\n",
      "38 is an event\n",
      "24 is an event\n",
      "36 is an event\n",
      "11 is an odd\n"
     ]
    }
   ],
   "source": [
    "even_count=0\n",
    "odd_count=0\n",
    "for i in range(5):\n",
    "    num=random.randint(5,50)\n",
    "    if num%2==0:\n",
    "        print(f\"{num} is an event\")\n",
    "        even_count=even_count+1\n",
    "    else:\n",
    "        print(f\"{num} is an odd\")\n",
    "        odd_count=odd_count+1"
   ]
  },
  {
   "cell_type": "code",
   "execution_count": 49,
   "id": "576fe492",
   "metadata": {},
   "outputs": [
    {
     "name": "stdout",
     "output_type": "stream",
     "text": [
      "4\n"
     ]
    }
   ],
   "source": [
    "print(even_count)"
   ]
  },
  {
   "cell_type": "code",
   "execution_count": 50,
   "id": "a39a5d7c",
   "metadata": {},
   "outputs": [
    {
     "name": "stdout",
     "output_type": "stream",
     "text": [
      "1\n"
     ]
    }
   ],
   "source": [
    "print(odd_count)"
   ]
  },
  {
   "cell_type": "code",
   "execution_count": 51,
   "id": "96ebf7ff",
   "metadata": {},
   "outputs": [
    {
     "name": "stdout",
     "output_type": "stream",
     "text": [
      "1\n",
      "3\n",
      "6\n",
      "10\n",
      "15\n",
      "21\n",
      "28\n",
      "36\n",
      "45\n",
      "55\n"
     ]
    }
   ],
   "source": [
    "# wap ask the user summ of first 10 natural numbers\n",
    "\n",
    "# step-1: summ=0\n",
    "# step-2: iterate through loop range(1,11)\n",
    "# step-3: summ=summ+i\n",
    "# same like for above code\n",
    "\n",
    "\n",
    "summ=0\n",
    "for i in range(1,11):\n",
    "    summ=summ+i\n",
    "    print(summ)\n",
    "  "
   ]
  },
  {
   "cell_type": "code",
   "execution_count": 52,
   "id": "3d065830",
   "metadata": {},
   "outputs": [
    {
     "name": "stdout",
     "output_type": "stream",
     "text": [
      "55\n"
     ]
    }
   ],
   "source": [
    "summ=0\n",
    "for i in range(1,11):\n",
    "    summ=summ+i\n",
    "print(summ)\n",
    "\n",
    "\n",
    "# step-1: i=1  summ=0   summ=summ+i=0+i\n",
    "# step-2: i=2  summ=1   summ=summ+i=1+2=3\n",
    "# step-3: i=3  summ=3   summ=summ+i=3+3=6"
   ]
  },
  {
   "cell_type": "code",
   "execution_count": null,
   "id": "d7d14030",
   "metadata": {},
   "outputs": [],
   "source": [
    "# wap ask the user to find the the divisors of a given number\n",
    "# suppose i want to know divisors of 10\n",
    "\n",
    "\n",
    "\n",
    "# step-1: choose your start valve and stop valve\n",
    "# step-2: iterate through loop\n",
    "# step-3: if num%2==0:\n",
    "# step-4: print(i)\n",
    "\n",
    "\n",
    "start=1\n",
    "stop=11\n",
    "for i in range(1,11):\n",
    "    if 10%i==0:\n",
    "        print(i)\n"
   ]
  },
  {
   "cell_type": "code",
   "execution_count": null,
   "id": "ea587b4d",
   "metadata": {},
   "outputs": [],
   "source": [
    "for i in range(1,31):\n",
    "    if 30%i==0:\n",
    "        print(i)\n"
   ]
  },
  {
   "cell_type": "code",
   "execution_count": null,
   "id": "efac4ca7",
   "metadata": {},
   "outputs": [],
   "source": [
    "num=eval(input(\"enter a number: \"))\n",
    "start=1\n",
    "stop=num+1\n",
    "count=0\n",
    "\n",
    "for i in range(start,stop):\n",
    "    if num%i==0:\n",
    "        print(f\"{i} is divisior of {num}\")\n",
    "        count=count+1\n",
    "print(F\"number of divisior are {count}\")\n",
    "            "
   ]
  },
  {
   "cell_type": "code",
   "execution_count": null,
   "id": "67fb484e",
   "metadata": {},
   "outputs": [],
   "source": [
    "# wap ask the user find the dividior of 10\n",
    "# create a function num as arugement and count as return\n",
    "\n",
    "\n",
    "def divisior(num):\n",
    "    start=1\n",
    "    stop=num+1\n",
    "    count=0\n",
    "    for i in range(start,stop):\n",
    "        if num%i==0:\n",
    "            print(f\"{i} is divisior of {num}\")\n",
    "            count=count+1\n",
    "    print(f\"number of divisior are {count}\")\n",
    "divisior(20)\n",
    "                                                "
   ]
  },
  {
   "cell_type": "code",
   "execution_count": null,
   "id": "775f5774",
   "metadata": {},
   "outputs": [],
   "source": [
    "def divisior(num):\n",
    "    start=1\n",
    "    stop=num+1\n",
    "    count=0\n",
    "    for i in range(start,stop):\n",
    "        if num%i==0:\n",
    "            print(f\"{i} is divisior of {num}\")\n",
    "            count=count+1\n",
    "    return(f\"number of divisior are {count}\")\n",
    "count=divisior(20)"
   ]
  },
  {
   "cell_type": "code",
   "execution_count": null,
   "id": "468658cd",
   "metadata": {},
   "outputs": [],
   "source": [
    "print(count)"
   ]
  },
  {
   "cell_type": "code",
   "execution_count": null,
   "id": "69ddc3dc",
   "metadata": {},
   "outputs": [],
   "source": [
    "def divisior(num):\n",
    "    start=1\n",
    "    stop=num+1\n",
    "    count=0\n",
    "    for i in range(start,stop):\n",
    "        if num%i==0:\n",
    "            print(f\"{i} is divisior of {num}\")\n",
    "    return(f\"number of divisior of {count}\")\n",
    "count=divisior(50)               "
   ]
  },
  {
   "cell_type": "code",
   "execution_count": null,
   "id": "f50fdc00",
   "metadata": {},
   "outputs": [],
   "source": [
    "# wap ask the user get a random number\n",
    "# ask the user enter a number\n",
    "# if both are matched\n",
    "# print(\"you won\")\n",
    "# else print(\"you lost\")\n",
    "# give 3 chances\n",
    "\n",
    "\n",
    "import random\n",
    "num1=random.randint(1,20)\n",
    "num2=eval(input(\"enter a number\"))\n",
    "if num1==num2:\n",
    "    print(\"you won\")\n",
    "else:\n",
    "    print(\"you lost\")"
   ]
  },
  {
   "cell_type": "code",
   "execution_count": null,
   "id": "649e2ba7",
   "metadata": {},
   "outputs": [],
   "source": [
    "import random\n",
    "for i in range(3):\n",
    "    num1=random.randint(1,20)\n",
    "    num2=eval(input(\"enter a number: \"))\n",
    "\n",
    "    if num1==num2:\n",
    "        print(\"you won\")\n",
    "    else:\n",
    "        print(\"you lost\")\n",
    "    "
   ]
  },
  {
   "cell_type": "code",
   "execution_count": null,
   "id": "10dcb5db",
   "metadata": {},
   "outputs": [],
   "source": [
    "import random\n",
    "for i in range(3):\n",
    "    num1=random.randint(1,20)\n",
    "    num2=eval(input(\"enter a number: \"))\n",
    "    if num1==num2:\n",
    "        print(\"you won\")\n",
    "        break\n",
    "    else:\n",
    "        print(\"you lost\")\n",
    "        print(\"the number of chances left is\",3-i-1)"
   ]
  },
  {
   "cell_type": "code",
   "execution_count": null,
   "id": "f5315cfd",
   "metadata": {},
   "outputs": [],
   "source": [
    "import random\n",
    "chances=eval(input(\"how many chances you want: \"))\n",
    "for i in range(chances):\n",
    "    num1=random.randint(1,50)\n",
    "    num2=eval(input(\"enter a number: \"))\n",
    "    if num1==num2:\n",
    "        print(\"you won\")\n",
    "    else:\n",
    "        print(\"you lost\")\n",
    "        print(\"the number of chances left is\",chances-i-1)\n"
   ]
  },
  {
   "cell_type": "code",
   "execution_count": 1,
   "id": "a5df10c4",
   "metadata": {},
   "outputs": [
    {
     "name": "stdout",
     "output_type": "stream",
     "text": [
      "how many chances you want: 3\n",
      "enter a number: 44\n",
      "you lost\n",
      "the number of chances left is 2\n",
      "enter a number: 9\n",
      "you lost\n",
      "the number of chances left is 1\n",
      "enter a number: 2\n",
      "you lost\n",
      "the number of chances left is 0\n",
      "you lost all your chances trt after some time\n"
     ]
    }
   ],
   "source": [
    "import random\n",
    "chances=eval(input(\"how many chances you want: \"))\n",
    "for i in range(chances):\n",
    "    num1=random.randint(1,50)\n",
    "    num2=eval(input(\"enter a number: \"))\n",
    "    if num1==num2:\n",
    "        print(\"you won\")\n",
    "    else:\n",
    "        print(\"you lost\")\n",
    "        print(\"the number of chances left is\",chances-i-1)\n",
    "        if chances-i-1==0:\n",
    "            print(\"you lost all your chances trt after some time\")\n"
   ]
  },
  {
   "cell_type": "code",
   "execution_count": null,
   "id": "8db5002b",
   "metadata": {},
   "outputs": [],
   "source": []
  },
  {
   "cell_type": "code",
   "execution_count": null,
   "id": "828e818e",
   "metadata": {},
   "outputs": [],
   "source": []
  },
  {
   "cell_type": "code",
   "execution_count": null,
   "id": "e929f7f0",
   "metadata": {},
   "outputs": [],
   "source": []
  },
  {
   "cell_type": "code",
   "execution_count": null,
   "id": "76c6d0ce",
   "metadata": {},
   "outputs": [],
   "source": []
  },
  {
   "cell_type": "code",
   "execution_count": null,
   "id": "f2b4759b",
   "metadata": {},
   "outputs": [],
   "source": []
  },
  {
   "cell_type": "code",
   "execution_count": null,
   "id": "680860a7",
   "metadata": {},
   "outputs": [],
   "source": []
  }
 ],
 "metadata": {
  "kernelspec": {
   "display_name": "Python 3 (ipykernel)",
   "language": "python",
   "name": "python3"
  },
  "language_info": {
   "codemirror_mode": {
    "name": "ipython",
    "version": 3
   },
   "file_extension": ".py",
   "mimetype": "text/x-python",
   "name": "python",
   "nbconvert_exporter": "python",
   "pygments_lexer": "ipython3",
   "version": "3.11.5"
  }
 },
 "nbformat": 4,
 "nbformat_minor": 5
}
