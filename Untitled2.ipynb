{
 "cells": [
  {
   "cell_type": "code",
   "execution_count": 11,
   "id": "7ca90232",
   "metadata": {},
   "outputs": [
    {
     "name": "stdout",
     "output_type": "stream",
     "text": [
      "enter a number: 44\n",
      "out\n"
     ]
    }
   ],
   "source": [
    "# wap ask the user \n",
    "# get a random number betweeen 1,10 : n1\n",
    "# ask the user enter num:n2\n",
    "# if n1=n2\n",
    "# print(\"in\")\n",
    "# else:\n",
    "# print(\"out\")\n",
    "\n",
    "\n",
    "\n",
    "\n",
    "import random\n",
    "\n",
    "def game():\n",
    "    n1=random.randint(1,10)\n",
    "    n2=eval(input(\"enter a number: \"))\n",
    "    if n1==n2:\n",
    "        print(\"in\")\n",
    "    else:\n",
    "        print(\"out\")\n",
    "game()        "
   ]
  },
  {
   "cell_type": "code",
   "execution_count": 22,
   "id": "ac173f38",
   "metadata": {},
   "outputs": [
    {
     "name": "stdout",
     "output_type": "stream",
     "text": [
      "out\n"
     ]
    }
   ],
   "source": [
    "def game1(n2):\n",
    "    n1=random.randint(1,10)\n",
    "    if n1==n2:\n",
    "        print(\"in\")\n",
    "    else:\n",
    "        print(\"out\")\n",
    "game(32)        "
   ]
  },
  {
   "cell_type": "code",
   "execution_count": 24,
   "id": "c748c021",
   "metadata": {},
   "outputs": [
    {
     "name": "stdout",
     "output_type": "stream",
     "text": [
      "out\n"
     ]
    }
   ],
   "source": [
    "def game2(n2=44):\n",
    "    n1=random.randint(1,10)\n",
    "    if n1==n2:\n",
    "        print(\"in\")\n",
    "    else:\n",
    "        print(\"out\")\n",
    "game2()        "
   ]
  },
  {
   "cell_type": "code",
   "execution_count": 34,
   "id": "cb5add3c",
   "metadata": {},
   "outputs": [
    {
     "name": "stdout",
     "output_type": "stream",
     "text": [
      "out\n"
     ]
    },
    {
     "data": {
      "text/plain": [
       "32"
      ]
     },
     "execution_count": 34,
     "metadata": {},
     "output_type": "execute_result"
    }
   ],
   "source": [
    "def game(n2):\n",
    "    n1=random.randint(1,10)\n",
    "    if n1==n2:\n",
    "        print(\"in\")\n",
    "        return 100\n",
    "    else:\n",
    "        print(\"out\")\n",
    "        return 32\n",
    "money=game(3)\n",
    "money"
   ]
  },
  {
   "cell_type": "code",
   "execution_count": null,
   "id": "61f7b451",
   "metadata": {},
   "outputs": [],
   "source": []
  },
  {
   "cell_type": "code",
   "execution_count": 29,
   "id": "08570733",
   "metadata": {},
   "outputs": [
    {
     "name": "stdout",
     "output_type": "stream",
     "text": [
      "out\n"
     ]
    }
   ],
   "source": [
    "def game(n2=44):\n",
    "    n1=random.randint(1,10)\n",
    "    if n1==n2:\n",
    "        print(\"in\")\n",
    "    else:\n",
    "        print(\"out\")\n",
    "game()        "
   ]
  },
  {
   "cell_type": "code",
   "execution_count": 2,
   "id": "bd56adad",
   "metadata": {},
   "outputs": [
    {
     "name": "stdout",
     "output_type": "stream",
     "text": [
      "enter a number66\n",
      "even\n"
     ]
    }
   ],
   "source": [
    "\n",
    "def even_odd(num):\n",
    "    if num%2==0:\n",
    "        print(\"even\")\n",
    "    else:\n",
    "        print(\"odd\")\n",
    "\n",
    "even_odd(num=eval(input(\"enter a number\")))\n",
    "\n",
    "        "
   ]
  },
  {
   "cell_type": "code",
   "execution_count": 6,
   "id": "3c0463df",
   "metadata": {},
   "outputs": [
    {
     "name": "stdout",
     "output_type": "stream",
     "text": [
      "enter a number23\n",
      "odd\n"
     ]
    }
   ],
   "source": [
    "num=eval(input(\"enter a number\"))\n",
    "def even_odd():\n",
    "    if num%2==0:\n",
    "        print(\"even\")\n",
    "    else:\n",
    "        print(\"odd\")\n",
    "\n",
    "even_odd()      "
   ]
  },
  {
   "cell_type": "code",
   "execution_count": 3,
   "id": "f03be258",
   "metadata": {},
   "outputs": [
    {
     "name": "stdout",
     "output_type": "stream",
     "text": [
      "enter a number44\n",
      "even\n"
     ]
    }
   ],
   "source": [
    "\n",
    "def even_odd():\n",
    "    num=eval(input(\"enter a number\"))\n",
    "    if num%2==0:\n",
    "        print(\"even\")\n",
    "    else:\n",
    "        print(\"odd\")\n",
    "\n",
    "even_odd()\n"
   ]
  },
  {
   "cell_type": "code",
   "execution_count": 43,
   "id": "0cd5edf6",
   "metadata": {},
   "outputs": [
    {
     "name": "stdout",
     "output_type": "stream",
     "text": [
      "enter the bill amount200\n",
      "enter the tip in %10\n",
      "220.0\n"
     ]
    }
   ],
   "source": [
    "def bill_pay1():\n",
    "    bill=eval(input(\"enter the bill amount\"))\n",
    "    tip_per=eval(input(\"enter the tip in %\"))\n",
    "    tip_amount=bill*tip_per/100\n",
    "    total_amt=bill+tip_amount\n",
    "    return total_amt\n",
    "    print(f\"the tootal bill is:{total_amt}\")\n",
    "total_amt=bill_pay1()\n",
    "print(total_amt)"
   ]
  },
  {
   "cell_type": "code",
   "execution_count": 44,
   "id": "a18e8d1f",
   "metadata": {},
   "outputs": [
    {
     "data": {
      "text/plain": [
       "220.0"
      ]
     },
     "execution_count": 44,
     "metadata": {},
     "output_type": "execute_result"
    }
   ],
   "source": [
    "total_amt"
   ]
  },
  {
   "cell_type": "code",
   "execution_count": 32,
   "id": "358d1f62",
   "metadata": {},
   "outputs": [
    {
     "name": "stdout",
     "output_type": "stream",
     "text": [
      "enter the bill amount1000\n",
      "enter the tip in %20\n",
      "the tootal bill is:1200.0\n"
     ]
    }
   ],
   "source": [
    "def bill_pay1():\n",
    "    global total_amount\n",
    "    bill=eval(input(\"enter the bill amount\"))\n",
    "    tip_per=eval(input(\"enter the tip in %\"))\n",
    "    tip_amount=bill*tip_per/100\n",
    "    total_amount=bill+tip_amount\n",
    "    print(f\"the tootal bill is:{total_amount}\")\n",
    "bill_pay1()    "
   ]
  },
  {
   "cell_type": "code",
   "execution_count": 33,
   "id": "efea7e3c",
   "metadata": {},
   "outputs": [
    {
     "data": {
      "text/plain": [
       "1200.0"
      ]
     },
     "execution_count": 33,
     "metadata": {},
     "output_type": "execute_result"
    }
   ],
   "source": [
    "total_amount"
   ]
  },
  {
   "cell_type": "code",
   "execution_count": null,
   "id": "acfbcc4c",
   "metadata": {},
   "outputs": [],
   "source": [
    "# functions in functions\n"
   ]
  },
  {
   "cell_type": "code",
   "execution_count": 51,
   "id": "0c073d04",
   "metadata": {},
   "outputs": [
    {
     "name": "stdout",
     "output_type": "stream",
     "text": [
      "hello\n",
      "how are you\n"
     ]
    }
   ],
   "source": [
    "def greet1():\n",
    "        print(\"hello\")\n",
    "    \n",
    "def greet2():\n",
    "        print(\"how are you\")\n",
    "    \n",
    "greet1()\n",
    "greet2()\n"
   ]
  },
  {
   "cell_type": "code",
   "execution_count": null,
   "id": "c4bf922c",
   "metadata": {},
   "outputs": [],
   "source": []
  },
  {
   "cell_type": "code",
   "execution_count": null,
   "id": "b51461ec",
   "metadata": {},
   "outputs": [],
   "source": []
  },
  {
   "cell_type": "code",
   "execution_count": 47,
   "id": "421d1e55",
   "metadata": {},
   "outputs": [
    {
     "name": "stdout",
     "output_type": "stream",
     "text": [
      "how are you\n",
      "hello\n"
     ]
    }
   ],
   "source": [
    " def greet1():\n",
    "        greet2()   \n",
    "        print(\"hello\")\n",
    "    \n",
    "def greet2():\n",
    "        print(\"how are you\")\n",
    "    \n",
    "greet1()\n"
   ]
  },
  {
   "cell_type": "code",
   "execution_count": 49,
   "id": "737e9271",
   "metadata": {},
   "outputs": [
    {
     "name": "stdout",
     "output_type": "stream",
     "text": [
      "hello\n",
      "how are you\n"
     ]
    }
   ],
   "source": [
    "def greet1():  \n",
    "        print(\"hello\")\n",
    "    \n",
    "def greet2():\n",
    "    greet1()\n",
    "    print(\"how are you\")\n",
    "    \n",
    "greet2()\n"
   ]
  },
  {
   "cell_type": "code",
   "execution_count": null,
   "id": "c9f3ee49",
   "metadata": {},
   "outputs": [],
   "source": []
  },
  {
   "cell_type": "code",
   "execution_count": null,
   "id": "10447cf9",
   "metadata": {},
   "outputs": [],
   "source": [
    "# calculator program\n",
    "# create 4 functions\n",
    "# fun1: add\n",
    "# fun2: sub\n",
    "# fun3: mul\n",
    "# fun4: div\n",
    "\n",
    "# print(\"if you want use add opertion pls enter)\n"
   ]
  },
  {
   "cell_type": "code",
   "execution_count": null,
   "id": "fb470050",
   "metadata": {},
   "outputs": [],
   "source": [
    "n1=eval(input(\"enter a number\"))\n",
    "n2=eval(input(\"enter a number\"))\n",
    "def add(n1,n2):\n",
    "    add=n1+n2\n",
    "    \n",
    "    \n",
    "def sub():\n",
    "    sub1=n1-n2\n",
    "    print(sub)\n",
    "    \n",
    "    \n",
    "    \n",
    "def mul():\n",
    "    mul1=n1*n2\n",
    "    print(mul)\n",
    "    \n",
    "def div():\n",
    "    div1=n1/n2\n",
    "    print(div)\n",
    "    \n",
    "op=eval(input(\"enter the option\"))\n",
    "if op==1:\n",
    "    print(f\"addition of two numbers is {add(n1,n2)}\")\n",
    "    \n",
    "elif op==2:\n",
    "    print(f\"subtraction of two numbers is {sub1}\")\n",
    "    \n",
    "elif op==3:\n",
    "    print(f\"multiplication of two numbers is {mul1}\")\n",
    "    \n",
    "elif op==4:\n",
    "    print(f\"division of two numbers is {div1}\")\n",
    "    \n",
    "else:\n",
    "    print(\"enter the valid option \")\n",
    "    \n",
    "add() \n",
    "sub()\n",
    "mul()\n",
    "div()"
   ]
  },
  {
   "cell_type": "code",
   "execution_count": 13,
   "id": "7dbeb91f",
   "metadata": {},
   "outputs": [
    {
     "name": "stdout",
     "output_type": "stream",
     "text": [
      "enter a number22\n",
      "enter a number2\n",
      "enter the option3\n",
      "multiplication of two numbers is 44\n"
     ]
    }
   ],
   "source": [
    "n1=eval(input(\"enter a number\"))\n",
    "n2=eval(input(\"enter a number\"))\n",
    "def add(n1,n2):\n",
    "    return n1+n2\n",
    "    \n",
    "    \n",
    "def sub(n1,n2):\n",
    "    return n1-n2\n",
    "    \n",
    "    \n",
    "    \n",
    "    \n",
    "def mul(n1,n2):\n",
    "    return n1*n2\n",
    "    \n",
    "    \n",
    "def div(n1,n2):\n",
    "    return n1/n2\n",
    "    \n",
    "    \n",
    "op=eval(input(\"enter the option\"))\n",
    "if op==1:\n",
    "    print(f\"addition of two numbers is {add(n1,n2)}\")\n",
    "    \n",
    "elif op==2:\n",
    "    print(f\"subtraction of two numbers is {sub(n1,n2)}\")\n",
    "    \n",
    "elif op==3:\n",
    "    print(f\"multiplication of two numbers is {mul(n1,n2)}\")\n",
    "    \n",
    "elif op==4:\n",
    "    print(f\"division of two numbers is {div(n1,n2)}\")\n",
    "    \n",
    "else:\n",
    "    print(\"enter the valid option \")"
   ]
  },
  {
   "cell_type": "code",
   "execution_count": null,
   "id": "de649094",
   "metadata": {},
   "outputs": [],
   "source": []
  },
  {
   "cell_type": "code",
   "execution_count": null,
   "id": "8b5db6ec",
   "metadata": {},
   "outputs": [],
   "source": []
  },
  {
   "cell_type": "code",
   "execution_count": null,
   "id": "afdfe429",
   "metadata": {},
   "outputs": [],
   "source": []
  },
  {
   "cell_type": "code",
   "execution_count": null,
   "id": "64eb13f8",
   "metadata": {},
   "outputs": [],
   "source": []
  },
  {
   "cell_type": "code",
   "execution_count": null,
   "id": "4fdab8d8",
   "metadata": {},
   "outputs": [],
   "source": []
  },
  {
   "cell_type": "code",
   "execution_count": null,
   "id": "6e1f4a3f",
   "metadata": {},
   "outputs": [],
   "source": []
  }
 ],
 "metadata": {
  "kernelspec": {
   "display_name": "Python 3 (ipykernel)",
   "language": "python",
   "name": "python3"
  },
  "language_info": {
   "codemirror_mode": {
    "name": "ipython",
    "version": 3
   },
   "file_extension": ".py",
   "mimetype": "text/x-python",
   "name": "python",
   "nbconvert_exporter": "python",
   "pygments_lexer": "ipython3",
   "version": "3.11.5"
  }
 },
 "nbformat": 4,
 "nbformat_minor": 5
}
