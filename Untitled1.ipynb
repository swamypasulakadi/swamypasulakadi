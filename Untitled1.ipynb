{
 "cells": [
  {
   "cell_type": "code",
   "execution_count": 1,
   "id": "53062c12",
   "metadata": {},
   "outputs": [
    {
     "name": "stdout",
     "output_type": "stream",
     "text": [
      "enter a number:7\n",
      "odd\n"
     ]
    }
   ],
   "source": [
    "# wap ask the user enter a number\n",
    "# find itis an even or odd\n",
    "# create a function on this\n",
    "\n",
    "\n",
    "\n",
    "num=eval(input(\"enter a number:\"))\n",
    "if num%2==0:\n",
    "   print(\"even\")\n",
    "else:\n",
    "    print(\"odd\")"
   ]
  },
  {
   "cell_type": "code",
   "execution_count": 13,
   "id": "163ce198",
   "metadata": {},
   "outputs": [
    {
     "ename": "SyntaxError",
     "evalue": "invalid syntax (3367958454.py, line 8)",
     "output_type": "error",
     "traceback": [
      "\u001b[1;36m  Cell \u001b[1;32mIn[13], line 8\u001b[1;36m\u001b[0m\n\u001b[1;33m    even_odd():\u001b[0m\n\u001b[1;37m              ^\u001b[0m\n\u001b[1;31mSyntaxError\u001b[0m\u001b[1;31m:\u001b[0m invalid syntax\n"
     ]
    }
   ],
   "source": [
    "def even_odd():\n",
    "    num=eval(input(\"enter a number\"))\n",
    "    if num%2==0:\n",
    "        print(\"even\")\n",
    "    else:\n",
    "        print(\"odd\")\n",
    "       \n",
    "    even_odd()"
   ]
  },
  {
   "cell_type": "code",
   "execution_count": 27,
   "id": "23b711b2",
   "metadata": {},
   "outputs": [
    {
     "name": "stdout",
     "output_type": "stream",
     "text": [
      "enter a number33,anil\n",
      "name 'anil' is not defined\n"
     ]
    }
   ],
   "source": [
    "try:\n",
    "    num=eval(input(\"enter a number\"))\n",
    "    if num%2==0:\n",
    "        print(\"even\")\n",
    "    else:\n",
    "        print(\"odd\")  \n",
    "except Exception as e:\n",
    "    print(e)"
   ]
  },
  {
   "cell_type": "code",
   "execution_count": 29,
   "id": "584b3d54",
   "metadata": {},
   "outputs": [
    {
     "name": "stdout",
     "output_type": "stream",
     "text": [
      "enter a numberanil\n",
      "name 'anil' is not defined\n"
     ]
    }
   ],
   "source": [
    "def even_odd():\n",
    "    try:\n",
    "        num=eval(input(\"enter a number\"))\n",
    "        if num%2==0:\n",
    "            print(\"even\")\n",
    "        else:\n",
    "            print(\"odd\")\n",
    "    except Exception as e:\n",
    "        print(e)\n",
    "        \n",
    "even_odd()     "
   ]
  },
  {
   "cell_type": "code",
   "execution_count": null,
   "id": "07752349",
   "metadata": {},
   "outputs": [],
   "source": []
  },
  {
   "cell_type": "code",
   "execution_count": 18,
   "id": "a0d250b1",
   "metadata": {},
   "outputs": [
    {
     "name": "stdout",
     "output_type": "stream",
     "text": [
      "enter a number77\n",
      "odd\n"
     ]
    }
   ],
   "source": [
    " def even_odd():\n",
    "        try:\n",
    "            num=eval(input(\"enter a number\"))\n",
    "            if num%2==0:\n",
    "                print(\"even\")\n",
    "            else:\n",
    "                print(\"odd\")\n",
    "        except exception as e:\n",
    "            print(e)\n",
    "even_odd()            "
   ]
  },
  {
   "cell_type": "code",
   "execution_count": 34,
   "id": "628f6176",
   "metadata": {},
   "outputs": [
    {
     "name": "stdout",
     "output_type": "stream",
     "text": [
      "enter a bill : 1000\n",
      "enter a tip percentage: 10\n",
      "tip amount is 100.0\n",
      " total bill is 1100.0\n"
     ]
    }
   ],
   "source": [
    "bill=eval(input(\"enter a bill : \"))\n",
    "tip=eval(input(\"enter a tip percentage: \"))\n",
    "tip_amt=bill*(tip/100)\n",
    "print(f\"tip amount is {tip_amt}\")\n",
    "totalbill=tip_amt+bill\n",
    "print(f\" total bill is {totalbill}\")"
   ]
  },
  {
   "cell_type": "code",
   "execution_count": 37,
   "id": "b9b1c969",
   "metadata": {},
   "outputs": [
    {
     "name": "stdout",
     "output_type": "stream",
     "text": [
      "enter a bill : 1000\n",
      "enter a tip percentage : 10\n",
      "tip amount is 100.0\n",
      "total bill is 1100.0\n"
     ]
    }
   ],
   "source": [
    "def bill():\n",
    "    bill=eval(input(\"enter a bill : \"))\n",
    "    tip=eval(input(\"enter a tip percentage : \"))\n",
    "    tip_amt=bill*(tip/100)\n",
    "    print(f\"tip amount is {tip_amt}\")\n",
    "    totalbill=tip_amt+bill\n",
    "    print(f\"total bill is {totalbill}\")\n",
    "    \n",
    "bill()"
   ]
  },
  {
   "cell_type": "code",
   "execution_count": 38,
   "id": "85d7201b",
   "metadata": {},
   "outputs": [
    {
     "name": "stdout",
     "output_type": "stream",
     "text": [
      "tip amount is 50.0\n",
      "total bill is 550.0\n"
     ]
    }
   ],
   "source": [
    "def bill(bill,tip):\n",
    "    tip_amt=bill*(tip/100)\n",
    "    print(f\"tip amount is {tip_amt}\")\n",
    "    totalbill=tip_amt+bill\n",
    "    print(f\"total bill is {totalbill}\")\n",
    "    \n",
    "bill(500,10)"
   ]
  },
  {
   "cell_type": "code",
   "execution_count": 2,
   "id": "8d86f7fb",
   "metadata": {},
   "outputs": [
    {
     "name": "stdout",
     "output_type": "stream",
     "text": [
      "tip amount is 100.0\n"
     ]
    },
    {
     "data": {
      "text/plain": [
       "1100.0"
      ]
     },
     "execution_count": 2,
     "metadata": {},
     "output_type": "execute_result"
    }
   ],
   "source": [
    "def bill(bill,tip):\n",
    "    tip_amt=bill*(tip/100)\n",
    "    print(f\"tip amount is {tip_amt}\")\n",
    "    totalbill=tip_amt+bill\n",
    "    return totalbill\n",
    "    print(f\"total bill is {totalbill}\")\n",
    "    \n",
    "totalbill=bill(1000,10)\n",
    "totalbill"
   ]
  },
  {
   "cell_type": "code",
   "execution_count": 42,
   "id": "f66b2df8",
   "metadata": {},
   "outputs": [
    {
     "name": "stdout",
     "output_type": "stream",
     "text": [
      "tip amount is 100.0\n",
      "total bill is 600.0\n"
     ]
    }
   ],
   "source": [
    "def bill(bill,tip=20):\n",
    "    tip_amt=bill*(tip/100)\n",
    "    print(f\"tip amount is {tip_amt}\")\n",
    "    totalbill=tip_amt+bill\n",
    "    print(f\"total bill is {totalbill}\")\n",
    "    \n",
    "bill(500)"
   ]
  },
  {
   "cell_type": "code",
   "execution_count": 47,
   "id": "a8118610",
   "metadata": {},
   "outputs": [
    {
     "name": "stdout",
     "output_type": "stream",
     "text": [
      "enter a number1: 300\n",
      "enter a number2: 400\n",
      "enter a number3: 100\n",
      "summ is 800\n",
      "avg is 266.6666666666667\n"
     ]
    }
   ],
   "source": [
    "n1=eval(input(\"enter a number1: \"))\n",
    "n2=eval(input(\"enter a number2: \"))\n",
    "n3=eval(input(\"enter a number3: \"))\n",
    "summ=n1+n2+n3\n",
    "avg=summ/3\n",
    "print(f\"summ is {summ}\")\n",
    "print(f\"avg is {avg}\")"
   ]
  },
  {
   "cell_type": "code",
   "execution_count": 49,
   "id": "e5446c0e",
   "metadata": {},
   "outputs": [
    {
     "name": "stdout",
     "output_type": "stream",
     "text": [
      "enter a number1: 400\n",
      "enter a number2: 600\n",
      "enter a number3: 200\n",
      "summ is 1200\n",
      "avg is 400.0\n"
     ]
    }
   ],
   "source": [
    "def summavg():\n",
    "    n1=eval(input(\"enter a number1: \"))\n",
    "    n2=eval(input(\"enter a number2: \"))\n",
    "    n3=eval(input(\"enter a number3: \"))\n",
    "    summ=n1+n2+n3\n",
    "    avg=summ/3\n",
    "    print(f\"summ is {summ}\")\n",
    "    print(f\"avg is {avg}\")\n",
    "    \n",
    "summavg()    "
   ]
  },
  {
   "cell_type": "code",
   "execution_count": 50,
   "id": "7932fdfe",
   "metadata": {},
   "outputs": [
    {
     "name": "stdout",
     "output_type": "stream",
     "text": [
      "summ is 1200\n",
      "avg is 400.0\n"
     ]
    }
   ],
   "source": [
    "def summavg(n1,n2,n3):\n",
    "    summ=n1+n2+n3\n",
    "    avg=summ/3\n",
    "    print(f\"summ is {summ}\")\n",
    "    print(f\"avg is {avg}\")\n",
    "    \n",
    "summavg(400,600,200)    "
   ]
  },
  {
   "cell_type": "code",
   "execution_count": 51,
   "id": "22b0f8f8",
   "metadata": {},
   "outputs": [
    {
     "name": "stdout",
     "output_type": "stream",
     "text": [
      "summ is 1200\n",
      "avg is 400.0\n"
     ]
    }
   ],
   "source": [
    "def summavg(n1,n2=600,n3=200):\n",
    "    summ=n1+n2+n3\n",
    "    avg=summ/3\n",
    "    print(f\"summ is {summ}\")\n",
    "    print(f\"avg is {avg}\")\n",
    "    \n",
    "summavg(400)    "
   ]
  },
  {
   "cell_type": "code",
   "execution_count": null,
   "id": "e029427f",
   "metadata": {},
   "outputs": [],
   "source": []
  },
  {
   "cell_type": "code",
   "execution_count": null,
   "id": "cfcc7516",
   "metadata": {},
   "outputs": [],
   "source": []
  },
  {
   "cell_type": "code",
   "execution_count": 9,
   "id": "2a4829b7",
   "metadata": {},
   "outputs": [],
   "source": [
    "# wap ask the user get a number : num1\n",
    "# ask the the user get number from key board\n",
    "# if num1==num2:print"
   ]
  },
  {
   "cell_type": "code",
   "execution_count": null,
   "id": "60ef2b1c",
   "metadata": {},
   "outputs": [],
   "source": []
  },
  {
   "cell_type": "code",
   "execution_count": null,
   "id": "9ed261b5",
   "metadata": {},
   "outputs": [],
   "source": []
  },
  {
   "cell_type": "code",
   "execution_count": null,
   "id": "036e9a13",
   "metadata": {},
   "outputs": [],
   "source": []
  },
  {
   "cell_type": "code",
   "execution_count": null,
   "id": "3d183b9c",
   "metadata": {},
   "outputs": [],
   "source": [
    "######default argument##########\n",
    "\n",
    "# we can fix the argument\n",
    "\n",
    "\n"
   ]
  },
  {
   "cell_type": "code",
   "execution_count": null,
   "id": "0358d8da",
   "metadata": {},
   "outputs": [],
   "source": [
    "derf summ(num1,num2=100):\n",
    "    print(\"num1\",num2 )"
   ]
  },
  {
   "cell_type": "code",
   "execution_count": null,
   "id": "590e5b5c",
   "metadata": {},
   "outputs": [],
   "source": []
  },
  {
   "cell_type": "code",
   "execution_count": null,
   "id": "02fa23ad",
   "metadata": {},
   "outputs": [],
   "source": []
  },
  {
   "cell_type": "code",
   "execution_count": null,
   "id": "97805d5b",
   "metadata": {},
   "outputs": [],
   "source": []
  },
  {
   "cell_type": "code",
   "execution_count": 6,
   "id": "306173a5",
   "metadata": {},
   "outputs": [],
   "source": [
    "def avg(n1,n2,n3=100):\n",
    "    average=(n1+n2+n3)/3\n",
    "    print(average)"
   ]
  },
  {
   "cell_type": "code",
   "execution_count": null,
   "id": "5d70738c",
   "metadata": {},
   "outputs": [],
   "source": []
  },
  {
   "cell_type": "code",
   "execution_count": null,
   "id": "e10a9c83",
   "metadata": {},
   "outputs": [],
   "source": []
  },
  {
   "cell_type": "code",
   "execution_count": null,
   "id": "e4ff16a0",
   "metadata": {},
   "outputs": [],
   "source": []
  },
  {
   "cell_type": "code",
   "execution_count": null,
   "id": "8295df56",
   "metadata": {},
   "outputs": [],
   "source": []
  },
  {
   "cell_type": "code",
   "execution_count": null,
   "id": "00e58428",
   "metadata": {},
   "outputs": [],
   "source": []
  },
  {
   "cell_type": "code",
   "execution_count": null,
   "id": "0cb1c8c0",
   "metadata": {},
   "outputs": [],
   "source": [
    "def tax():\n",
    "    tax"
   ]
  },
  {
   "cell_type": "code",
   "execution_count": null,
   "id": "b3d5f910",
   "metadata": {},
   "outputs": [],
   "source": []
  },
  {
   "cell_type": "code",
   "execution_count": null,
   "id": "566d5e91",
   "metadata": {},
   "outputs": [],
   "source": []
  },
  {
   "cell_type": "code",
   "execution_count": null,
   "id": "f72d1765",
   "metadata": {},
   "outputs": [],
   "source": []
  },
  {
   "cell_type": "code",
   "execution_count": null,
   "id": "913060f3",
   "metadata": {},
   "outputs": [],
   "source": []
  },
  {
   "cell_type": "code",
   "execution_count": null,
   "id": "cb8b9837",
   "metadata": {},
   "outputs": [],
   "source": []
  },
  {
   "cell_type": "code",
   "execution_count": 7,
   "id": "af62a7fb",
   "metadata": {},
   "outputs": [],
   "source": [
    "# wap take three numbers\n",
    "# do the sum\n",
    "# do the average\n",
    "# return sum and average"
   ]
  },
  {
   "cell_type": "code",
   "execution_count": null,
   "id": "c1e9875a",
   "metadata": {},
   "outputs": [],
   "source": [
    "def sum-avg(n1,n2,n3)\n",
    "    summ=N1=n2+n3\n",
    "    avg=summ/3\n",
    "    return"
   ]
  },
  {
   "cell_type": "code",
   "execution_count": null,
   "id": "91006e61",
   "metadata": {},
   "outputs": [],
   "source": []
  },
  {
   "cell_type": "code",
   "execution_count": null,
   "id": "b67a88c4",
   "metadata": {},
   "outputs": [],
   "source": []
  },
  {
   "cell_type": "code",
   "execution_count": null,
   "id": "10470a99",
   "metadata": {},
   "outputs": [],
   "source": []
  },
  {
   "cell_type": "code",
   "execution_count": null,
   "id": "3714c721",
   "metadata": {},
   "outputs": [],
   "source": []
  }
 ],
 "metadata": {
  "kernelspec": {
   "display_name": "Python 3 (ipykernel)",
   "language": "python",
   "name": "python3"
  },
  "language_info": {
   "codemirror_mode": {
    "name": "ipython",
    "version": 3
   },
   "file_extension": ".py",
   "mimetype": "text/x-python",
   "name": "python",
   "nbconvert_exporter": "python",
   "pygments_lexer": "ipython3",
   "version": "3.11.5"
  }
 },
 "nbformat": 4,
 "nbformat_minor": 5
}
